{
 "cells": [
  {
   "cell_type": "code",
   "execution_count": null,
   "id": "b2aa9b76-37ea-4978-ad5b-46e6c7d03dbe",
   "metadata": {},
   "outputs": [],
   "source": [
    "# Step 1: Detect Missing Values\n",
    "print(\"Missing Values Count Before Imputation:\")\n",
    "print(main.isnull().sum())\n",
    "\n",
    "# If missing values are significant, decide how to handle them\n",
    "# Example: Fill missing numerical values with the mean\n",
    "for col in main.select_dtypes(include=[\"float\", \"int\"]).columns:\n",
    "    if main[col].isnull().sum() > 0:  # Check for missing values\n",
    "        print(f\"Filling missing values in '{col}' with mean ({main[col].mean()})\")\n",
    "        main[col].fillna(main[col].mean(), inplace=True)\n",
    "\n",
    "# Step 2: Detect and Handle Outliers\n",
    "# Define a function for detecting outliers using the IQR method\n",
    "def remove_outliers(df, col):\n",
    "    Q1 = df[col].quantile(0.25)  # First quartile\n",
    "    Q3 = df[col].quantile(0.75)  # Third quartile\n",
    "    IQR = Q3 - Q1                # Interquartile range\n",
    "    lower_bound = Q1 - 1.5 * IQR\n",
    "    upper_bound = Q3 + 1.5 * IQR\n",
    "    initial_length = len(df)\n",
    "    df = df[(df[col] >= lower_bound) & (df[col] <= upper_bound)]\n",
    "    print(f\"Removed outliers from '{col}'. Rows reduced from {initial_length} to {len(df)}.\")\n",
    "    return df\n",
    "\n",
    "# Example: Apply outlier removal to numeric columns\n",
    "for col in main.select_dtypes(include=[\"float\", \"int\"]).columns:\n",
    "    main = remove_outliers(main, col)\n",
    "\n",
    "# Step 3: Final Check\n",
    "print(\"Missing Values Count After Imputation:\")\n",
    "print(main.isnull().sum())\n",
    "print(\"DataFrame shape after handling outliers and missing values:\", main.shape)"
   ]
  }
 ],
 "metadata": {
  "kernelspec": {
   "display_name": "Python 3 (ipykernel)",
   "language": "python",
   "name": "python3"
  },
  "language_info": {
   "codemirror_mode": {
    "name": "ipython",
    "version": 3
   },
   "file_extension": ".py",
   "mimetype": "text/x-python",
   "name": "python",
   "nbconvert_exporter": "python",
   "pygments_lexer": "ipython3",
   "version": "3.12.7"
  }
 },
 "nbformat": 4,
 "nbformat_minor": 5
}
